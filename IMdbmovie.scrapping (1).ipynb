{
 "cells": [
  {
   "cell_type": "code",
   "execution_count": 1,
   "id": "9b294d0f",
   "metadata": {},
   "outputs": [],
   "source": [
    "import pandas as pd\n",
    "import requests\n",
    "from bs4 import BeautifulSoup\n",
    "import numpy as np"
   ]
  },
  {
   "cell_type": "code",
   "execution_count": 2,
   "id": "a2823ca7",
   "metadata": {},
   "outputs": [],
   "source": [
    "url = 'https://www.imdb.com/search/title/?count=100&groups=top_1000&sort=user_rating'\n",
    "response = requests.get(url)\n",
    "soup = BeautifulSoup(response.content,'html.parser')"
   ]
  },
  {
   "cell_type": "code",
   "execution_count": 3,
   "id": "3b11e699",
   "metadata": {},
   "outputs": [],
   "source": [
    "movie_name=[]\n",
    "year=[]\n",
    "time=[]\n",
    "rating=[]\n",
    "metascore=[]\n",
    "votes=[]\n",
    "gross=[]\n",
    "genre=[]\n",
    "actor=[]\n",
    "director=[]\n"
   ]
  },
  {
   "cell_type": "code",
   "execution_count": 4,
   "id": "d8a1e75b",
   "metadata": {},
   "outputs": [],
   "source": [
    "movie_data = soup.findAll('div',attrs={'class':'lister-item mode-advanced'})"
   ]
  },
  {
   "cell_type": "code",
   "execution_count": 5,
   "id": "a6412eba",
   "metadata": {},
   "outputs": [],
   "source": [
    "for store in movie_data:\n",
    "    name = store.h3.a.text\n",
    "    movie_name.append(name)\n",
    "    \n",
    "    \n",
    "    year_of_release=store.h3.find('span', class_ = 'lister-item-year text-muted unbold').text.replace('(','').replace(')','')\n",
    "    year.append(year_of_release) \n",
    "    \n",
    "    runtime = store.p.find('span', class_ = 'runtime').text.replace('min','')\n",
    "    time.append(runtime)\n",
    "    \n",
    "    rate= store.find('div',class_ ='inline-block ratings-imdb-rating').text.replace('\\n','')\n",
    "    rating.append(rate)\n",
    "    \n",
    "    meta = store.find('span',class_='metascore').text.replace(' ','') if store.find('span',class_='metascore') else 'Null'\n",
    "    metascore.append(meta)\n",
    "    \n",
    "    value = store.find_all('span', attrs={'name': 'nv'})\n",
    "    \n",
    "    vote= value[0].text\n",
    "    votes.append(vote)\n",
    "    \n",
    "    grosses = value[1].text if len(value) >1 else 'Null'\n",
    "    gross.append(grosses)\n",
    "    \n",
    "    gen = store.p.find('span',class_ = 'genre').text.replace('\\n','').replace(' ','')\n",
    "    genre.append(gen)\n",
    "    \n",
    "    act = store.find_all('a')\n",
    "    \n",
    "    actors = act[14].text\n",
    "    actor.append(actors)\n",
    "    \n",
    "    direct =act[13].text\n",
    "    director.append(direct)\n",
    "    \n",
    "    \n",
    "    \n",
    "    \n",
    "    \n",
    "     "
   ]
  },
  {
   "cell_type": "code",
   "execution_count": 6,
   "id": "2dcd95fb",
   "metadata": {},
   "outputs": [],
   "source": [
    "df = pd.DataFrame({'Name of movie': movie_name,'Year of release': year, 'Watchtime': time,'Movie Rating': rating, 'Metascore': metascore,'Votes': votes,'Gross Collection': gross,'Genre':genre,'Director':director,'Actor':actor})"
   ]
  },
  {
   "cell_type": "code",
   "execution_count": null,
   "id": "74327674",
   "metadata": {},
   "outputs": [],
   "source": []
  },
  {
   "cell_type": "code",
   "execution_count": 8,
   "id": "6277cc7b",
   "metadata": {},
   "outputs": [],
   "source": [
    "df.to_csv('imdbdata.csv')"
   ]
  },
  {
   "cell_type": "code",
   "execution_count": null,
   "id": "ee3b4be5",
   "metadata": {},
   "outputs": [],
   "source": []
  },
  {
   "cell_type": "code",
   "execution_count": null,
   "id": "8022549f",
   "metadata": {},
   "outputs": [],
   "source": []
  }
 ],
 "metadata": {
  "kernelspec": {
   "display_name": "Python 3 (ipykernel)",
   "language": "python",
   "name": "python3"
  },
  "language_info": {
   "codemirror_mode": {
    "name": "ipython",
    "version": 3
   },
   "file_extension": ".py",
   "mimetype": "text/x-python",
   "name": "python",
   "nbconvert_exporter": "python",
   "pygments_lexer": "ipython3",
   "version": "3.10.9"
  }
 },
 "nbformat": 4,
 "nbformat_minor": 5
}
